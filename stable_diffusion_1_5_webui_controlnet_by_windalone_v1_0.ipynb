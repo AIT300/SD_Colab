{
  "cells": [
    {
      "cell_type": "markdown",
      "metadata": {
        "id": "view-in-github",
        "colab_type": "text"
      },
      "source": [
        "<a href=\"https://colab.research.google.com/github/AIT300/TonyColab/blob/master/stable_diffusion_1_5_webui_controlnet_by_windalone_v1_0.ipynb\" target=\"_parent\"><img src=\"https://colab.research.google.com/assets/colab-badge.svg\" alt=\"Open In Colab\"/></a>"
      ]
    },
    {
      "cell_type": "code",
      "execution_count": null,
      "metadata": {
        "id": "23TOba33L4qf",
        "collapsed": true,
        "cellView": "form"
      },
      "outputs": [],
      "source": [
        "#@title 查看分配到的GPU\n",
        "gpu_info = !nvidia-smi\n",
        "gpu_info = '\\n'.join(gpu_info)\n",
        "if gpu_info.find('failed') >= 0:\n",
        "  print('Not connected to a GPU')\n",
        "else:\n",
        "  print(gpu_info)"
      ]
    },
    {
      "cell_type": "code",
      "source": [
        "#@title 挂载谷歌云盘\n",
        "#点击左上角三角形图标挂载云盘，或者运行以下代码\n",
        "from google.colab import drive\n",
        "drive.mount('/content/drive')"
      ],
      "metadata": {
        "id": "bak3dDaFqQLu",
        "cellView": "form"
      },
      "execution_count": null,
      "outputs": []
    },
    {
      "cell_type": "code",
      "execution_count": null,
      "metadata": {
        "id": "SaAJk33ppFw1",
        "collapsed": true
      },
      "outputs": [],
      "source": [
        "#@title 启动stable_diffusion_1_5_webui\n",
        "!apt-get -y install -qq aria2\n",
        "!pip install -q https://github.com/camenduru/stable-diffusion-webui-colab/releases/download/0.0.16/xformers-0.0.16+814314d.d20230118-cp38-cp38-linux_x86_64.whl\n",
        "!pip install -q --pre triton\n",
        "\n",
        "!git clone -b v1.6 https://github.com/camenduru/stable-diffusion-webui\n",
        "!wget https://raw.githubusercontent.com/camenduru/stable-diffusion-webui-scripts/main/run_n_times.py -O /content/stable-diffusion-webui/scripts/run_n_times.py\n",
        "!git clone -b v1.6 https://github.com/camenduru/deforum-for-automatic1111-webui /content/stable-diffusion-webui/extensions/deforum-for-automatic1111-webui\n",
        "!git clone -b v1.6 https://github.com/camenduru/stable-diffusion-webui-images-browser /content/stable-diffusion-webui/extensions/stable-diffusion-webui-images-browser\n",
        "!git clone -b v1.6 https://github.com/camenduru/stable-diffusion-webui-huggingface /content/stable-diffusion-webui/extensions/stable-diffusion-webui-huggingface\n",
        "!git clone -b v1.6 https://github.com/camenduru/sd-civitai-browser /content/stable-diffusion-webui/extensions/sd-civitai-browser\n",
        "!git clone -b v1.6 https://github.com/camenduru/sd-webui-additional-networks /content/stable-diffusion-webui/extensions/sd-webui-additional-networks\n",
        "#安装controlnet扩展（）\n",
        "!git clone https://github.com/Mikubill/sd-webui-controlnet /content/stable-diffusion-webui/extensions/sd-webui-controlnet\n",
        "\n",
        "%cd /content/stable-diffusion-webui\n",
        "\n",
        "!aria2c --console-log-level=error -c -x 16 -s 16 -k 1M https://huggingface.co/ckpt/sd15/resolve/main/v1-5-pruned-emaonly.ckpt -d /content/stable-diffusion-webui/models/Stable-diffusion -o v1-5-pruned-emaonly.ckpt\n",
        "\n",
        "!sed -i -e '''/prepare_environment()/a\\    os.system\\(f\\\"\"\"sed -i -e ''\\\"s/self.logvar\\\\[t\\\\]/self.logvar\\\\[t.item()\\\\]/g\\\"'' /content/stable-diffusion-webui/repositories/stable-diffusion-stability-ai/ldm/models/diffusion/ddpm.py\"\"\")''' /content/stable-diffusion-webui/launch.py\n",
        "!sed -i -e '''/prepare_environment()/a\\    os.system\\(f\\\"\"\"sed -i -e ''\\\"s/dict()))/dict())).cuda()/g\\\"'' /content/stable-diffusion-webui/repositories/stable-diffusion-stability-ai/ldm/util.py\"\"\")''' /content/stable-diffusion-webui/launch.py\n",
        "!sed -i '$a fastapi==0.90.0' requirements_versions.txt\n",
        "!python launch.py --share --xformers --enable-insecure-extension-access"
      ]
    },
    {
      "cell_type": "code",
      "source": [
        "#@title 下载模型资源\n",
        "#安装下载工具aria2\n",
        "#!apt-get update\n",
        "#!apt-get install aria2\n",
        "\n",
        "#安装ControlNet插件。运行SD后在SDwebui界面用url安装https://github.com/Mikubill/sd-webui-controlnet\n",
        "#下载ControlNet所需模型资源，注释掉的表示已经下载过了\n",
        "#下载地址https://huggingface.co/ckpt/ControlNet/tree/main\n",
        "#或者https://huggingface.co/kohya-ss/ControlNet-diff-modules/tree/main\n",
        "#1.control_normal.safetensors\n",
        "#!aria2c --console-log-level=error -c -x 16 -s 16 -k 1M https://huggingface.co/ckpt/ControlNet/resolve/main/control_normal.safetensors -d /content/drive/MyDrive/SD_Models -o control_normal.safetensors\n",
        "\n",
        "#2.control_canny.safetensors\n",
        "#!aria2c --console-log-level=error -c -x 16 -s 16 -k 1M https://huggingface.co/ckpt/ControlNet/resolve/main/control_canny.safetensors -d /content/drive/MyDrive/SD_Models -o control_canny.safetensors\n",
        "\n",
        "#3.control_depth.safetensors\n",
        "#!aria2c --console-log-level=error -c -x 16 -s 16 -k 1M https://huggingface.co/ckpt/ControlNet/resolve/main/control_depth.safetensors -d /content/drive/MyDrive/SD_Models -o control_depth.safetensors\n",
        "\n",
        "#4.control_hed.safetensors\n",
        "#!aria2c --console-log-level=error -c -x 16 -s 16 -k 1M https://huggingface.co/ckpt/ControlNet/resolve/main/control_hed.safetensors -d /content/drive/MyDrive/SD_Models -o control_hed.safetensors\n",
        "\n",
        "#5.control_mlsd.safetensors\n",
        "#!aria2c --console-log-level=error -c -x 16 -s 16 -k 1M https://huggingface.co/ckpt/ControlNet/resolve/main/control_mlsd.safetensors -d /content/drive/MyDrive/SD_Models -o control_mlsd.safetensors\n",
        "\n",
        "#6.control_openpose.safetensors\n",
        "#!aria2c --console-log-level=error -c -x 16 -s 16 -k 1M https://huggingface.co/ckpt/ControlNet/resolve/main/control_openpose.safetensors -d /content/drive/MyDrive/SD_Models -o control_openpose.safetensors\n",
        "\n",
        "#7.control_scribble.safetensors\n",
        "#!aria2c --console-log-level=error -c -x 16 -s 16 -k 1M https://huggingface.co/ckpt/ControlNet/resolve/main/control_scribble.safetensors -d /content/drive/MyDrive/SD_Models -o control_scribble.safetensors\n",
        "\n",
        "#8.control_seg.safetensors\n",
        "#!aria2c --console-log-level=error -c -x 16 -s 16 -k 1M https://huggingface.co/ckpt/ControlNet/resolve/main/control_seg.safetensors -d /content/drive/MyDrive/SD_Models -o control_seg.safetensors\n",
        "\n",
        "#常见知名模型下载https://huggingface.co/ckpt主页里找\n",
        "#模型库https://civitai.com/\n",
        "#下载地址https://huggingface.co/ckpt/ControlNet/tree/main\n",
        "#mdjrny-v4.ckpt\n",
        "#!aria2c --console-log-level=error -c -x 16 -s 16 -k 1M https://huggingface.co/ckpt/midjourney-v4-diffusion/resolve/main/mdjrny-v4.ckpt -d /content/drive/MyDrive/SD_Models2 -o mdjrny-v4.ckpt\n",
        "#Protogen_V2.2.ckpt\n",
        "#!aria2c --console-log-level=error -c -x 16 -s 16 -k 1M https://huggingface.co/ckpt/Protogen_V2.2/resolve/main/Protogen_V2.2.ckpt -d /content/drive/MyDrive/SD_Models2 -o Protogen_V2.2.ckpt\n",
        "#dreamlike-photoreal-2.0\n",
        "#!aria2c --console-log-level=error -c -x 16 -s 16 -k 1M https://huggingface.co/ckpt/dreamlike-photoreal-2.0/resolve/main/dreamlike-photoreal-2.0.safetensors -d /content/drive/MyDrive/SD_Models2 -o dreamlike-photoreal-2.0.safetensors\n",
        "#ArcaneStyle-LoRA\n",
        "#!aria2c --console-log-level=error -c -x 16 -s 16 -k 1M https://civitai.com/api/download/models/8339 -d /content/drive/MyDrive/SD_Models2 -o ArcaneStyle-LoRA.safetensors\n",
        "#SamDoesArtsSamYangStyleLoRA\n",
        "#!aria2c --console-log-level=error -c -x 16 -s 16 -k 1M https://civitai.com/api/download/models/7804 -d /content/drive/MyDrive/SD_Models2 -o SamDoesArtsSamYangStyleLoRA.safetensors\n",
        "#DreamShaper-v7\n",
        "#!aria2c --console-log-level=error -c -x 16 -s 16 -k 1M https://civitai.com/api/download/models/5636 -d /content/drive/MyDrive/SD_Models2 -o DreamShaper-v7.safetensors\n",
        "#dalcefo_painting-v2.0\n",
        "#!aria2c --console-log-level=error -c -x 16 -s 16 -k 1M https://civitai.com/api/download/models/14675 -d /content/drive/MyDrive/SD_Models2 -o dalcefo_painting-v2.0.safetensors\n",
        "#dalcefoPainting_LoRA300-v1.0\n",
        "#!aria2c --console-log-level=error -c -x 16 -s 16 -k 1M https://civitai.com/api/download/models/8444 -d /content/drive/MyDrive/SD_Models2 -o dalcefoPainting_LoRA300-v1.0.safetensors\n",
        "#StudioGhibliStyleLoRA-v2.0\n",
        "#!aria2c --console-log-level=error -c -x 16 -s 16 -k 1M https://civitai.com/api/download/models/7657 -d /content/drive/MyDrive/SD_Models2 -o StudioGhibliStyleLoRA-v2.0.safetensors\n",
        "#PerfectWorld-v2.0\n",
        "#!aria2c --console-log-level=error -c -x 16 -s 16 -k 1M https://civitai.com/api/download/models/11182 -d /content/drive/MyDrive/SD_Models2 -o PerfectWorld-v2.0.safetensors\n",
        "#PFG-v2.0\n",
        "#!aria2c --console-log-level=error -c -x 16 -s 16 -k 1M https://civitai.com/api/download/models/1316 -d /content/drive/MyDrive/SD_Models2 -o PFG-v2.0.safetensors\n",
        "#Hipoly3DModelLoRA-v1.0\n",
        "#!aria2c --console-log-level=error -c -x 16 -s 16 -k 1M https://civitai.com/api/download/models/10301 -d /content/drive/MyDrive/SD_Models2 -o Hipoly3DModelLoRA-v1.0.safetensors\n",
        "\n",
        "\n",
        "\n"
      ],
      "metadata": {
        "id": "iSzINQYXdGwQ",
        "cellView": "form"
      },
      "execution_count": null,
      "outputs": []
    },
    {
      "cell_type": "markdown",
      "source": [
        "#从MyDrive复制模型等资源到colab"
      ],
      "metadata": {
        "id": "oYvrAxdu19qs"
      }
    },
    {
      "cell_type": "code",
      "source": [
        "#@title 将云盘资源复制到指定文件夹，执行之前先暂停SD，等复制完再次启动SD\n",
        "#先启动SD，等SD创建完目录后，暂停SD，然后执行复制到相应路劲，复制完成后再次启动SD\n",
        "#不先启动SD则要存放模型的相应目录不存在，启动后不暂停SD则复制操作无法运行，会一直处于等待状态\n",
        "#目前全部复制完成需要10分钟左右\n",
        "#复制文件夹下多个文件。将云盘Controlnet所需模型复制到SD指定目录\n",
        "import glob\n",
        "import shutil\n",
        "\n",
        "# 定义源目录和目标路径\n",
        "src_dir = \"/content/drive/MyDrive/SD_Models\"\n",
        "dst_path = \"/content/stable-diffusion-webui/extensions/sd-webui-controlnet/models\"\n",
        "\n",
        "# 获取匹配的文件列表\n",
        "file_list = glob.glob(src_dir + \"/control_*.safetensors\")\n",
        "\n",
        "# 遍历文件列表并复制到目标路径\n",
        "for src_file in file_list:\n",
        "   shutil.copy(src_file, dst_path)\n",
        "\n",
        "####################    \n",
        "#将云盘其它模型复制到SD指定目录\n",
        "#import glob\n",
        "#import shutil\n",
        "# 定义源目录和目标路径\n",
        "src_dir2 = \"/content/drive/MyDrive/SD_Models2\"\n",
        "dst_path2 = \"/content/stable-diffusion-webui/models/Stable-diffusion\"\n",
        "\n",
        "# 获取匹配的文件列表\n",
        "file_list2 = glob.glob(src_dir2 + \"/*\")\n",
        "\n",
        "# 遍历文件列表并复制到目标路径\n",
        "for src_file2 in file_list2:\n",
        "    shutil.copy(src_file2, dst_path2)\n",
        "\n",
        "#复制单个文件\n",
        "#src_file = \"/content/drive/MyDrive/SD_Models2\"\n",
        "#dst_path = \"/content/stable-diffusion-webui/models/Stable-diffusion\"\n",
        "#shutil.copy(src_file, dst_path)\n",
        "\n",
        "\n"
      ],
      "metadata": {
        "id": "zVvNOsfP2Xb5"
      },
      "execution_count": null,
      "outputs": []
    },
    {
      "cell_type": "code",
      "source": [
        "#@title 复制单个或多个文件到指定目录\n",
        "import os\n",
        "import shutil\n",
        "\n",
        "src_folder = '/content/drive/MyDrive/SD_Models2'\n",
        "dst_folder = '/content/stable-diffusion-webui/models/Stable-diffusion'\n",
        "files_to_copy = ['Hipoly3DModelLoRA-v1.0.safetensors', 'PFG-v2.0.safetensors', 'PerfectWorld-v2.0.safetensors','dalcefoPainting_LoRA300-v1.0.safetensors','dalcefo_painting-v2.0.safetensors']\n",
        "\n",
        "for file_name in files_to_copy:\n",
        "    src_file = os.path.join(src_folder, file_name)\n",
        "    dst_file = os.path.join(dst_folder, file_name)\n",
        "    shutil.copy(src_file, dst_file)\n"
      ],
      "metadata": {
        "id": "rVQeb_a3egWh",
        "cellView": "form"
      },
      "execution_count": null,
      "outputs": []
    },
    {
      "cell_type": "code",
      "source": [
        "#@title 复制文件夹到MyDrive\n",
        "import os\n",
        "import shutil\n",
        "src_folder = '/content/stable-diffusion-webui/models/Stable-diffusion/sketch_style_for_img2img'\n",
        "dst_folder = '/content/drive/MyDrive/SD/sketch_style_for_img2img'\n",
        "\n",
        "# 复制文件夹\n",
        "shutil.copytree(src_folder,dst_folder,dirs_exist_ok=True)"
      ],
      "metadata": {
        "cellView": "form",
        "id": "KCeRCcfDX_E5"
      },
      "execution_count": null,
      "outputs": []
    }
  ],
  "metadata": {
    "colab": {
      "private_outputs": true,
      "provenance": [],
      "collapsed_sections": [
        "oYvrAxdu19qs"
      ],
      "include_colab_link": true
    },
    "gpuClass": "standard",
    "kernelspec": {
      "display_name": "Python 3",
      "name": "python3"
    },
    "language_info": {
      "name": "python"
    },
    "accelerator": "GPU"
  },
  "nbformat": 4,
  "nbformat_minor": 0
}