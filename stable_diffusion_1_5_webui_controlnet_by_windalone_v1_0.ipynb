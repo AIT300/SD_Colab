{
  "cells": [
    {
      "cell_type": "markdown",
      "metadata": {
        "id": "view-in-github",
        "colab_type": "text"
      },
      "source": [
        "<a href=\"https://colab.research.google.com/github/AIT300/TonyColab/blob/master/stable_diffusion_1_5_webui_controlnet_by_windalone_v1_0.ipynb\" target=\"_parent\"><img src=\"https://colab.research.google.com/assets/colab-badge.svg\" alt=\"Open In Colab\"/></a>"
      ]
    },
    {
      "cell_type": "markdown",
      "source": [
        "**查看分配到的GPU**"
      ],
      "metadata": {
        "id": "uZJLiX3EmsCC"
      }
    },
    {
      "cell_type": "code",
      "execution_count": null,
      "metadata": {
        "id": "23TOba33L4qf"
      },
      "outputs": [],
      "source": [
        "gpu_info = !nvidia-smi\n",
        "gpu_info = '\\n'.join(gpu_info)\n",
        "if gpu_info.find('failed') >= 0:\n",
        "  print('Not connected to a GPU')\n",
        "else:\n",
        "  print(gpu_info)"
      ]
    },
    {
      "cell_type": "markdown",
      "source": [
        "**挂载谷歌云盘，可将文件下载至谷歌云盘**"
      ],
      "metadata": {
        "id": "3DfieiZVYUnB"
      }
    },
    {
      "cell_type": "code",
      "source": [
        "#点击左上角三角形图标挂载云盘，或者运行以下代码\n",
        "from google.colab import drive\n",
        "drive.mount('/content/drive')"
      ],
      "metadata": {
        "id": "bak3dDaFqQLu"
      },
      "execution_count": null,
      "outputs": []
    },
    {
      "cell_type": "markdown",
      "source": [
        "**启动stable_diffusion_1_5_webui**"
      ],
      "metadata": {
        "id": "6QkMVYjlYGHN"
      }
    },
    {
      "cell_type": "code",
      "execution_count": null,
      "metadata": {
        "id": "SaAJk33ppFw1"
      },
      "outputs": [],
      "source": [
        "!apt-get -y install -qq aria2\n",
        "!pip install -q https://github.com/camenduru/stable-diffusion-webui-colab/releases/download/0.0.16/xformers-0.0.16+814314d.d20230118-cp38-cp38-linux_x86_64.whl\n",
        "!pip install -q --pre triton\n",
        "\n",
        "!git clone -b v1.6 https://github.com/camenduru/stable-diffusion-webui\n",
        "!wget https://raw.githubusercontent.com/camenduru/stable-diffusion-webui-scripts/main/run_n_times.py -O /content/stable-diffusion-webui/scripts/run_n_times.py\n",
        "!git clone -b v1.6 https://github.com/camenduru/deforum-for-automatic1111-webui /content/stable-diffusion-webui/extensions/deforum-for-automatic1111-webui\n",
        "!git clone -b v1.6 https://github.com/camenduru/stable-diffusion-webui-images-browser /content/stable-diffusion-webui/extensions/stable-diffusion-webui-images-browser\n",
        "!git clone -b v1.6 https://github.com/camenduru/stable-diffusion-webui-huggingface /content/stable-diffusion-webui/extensions/stable-diffusion-webui-huggingface\n",
        "!git clone -b v1.6 https://github.com/camenduru/sd-civitai-browser /content/stable-diffusion-webui/extensions/sd-civitai-browser\n",
        "!git clone -b v1.6 https://github.com/camenduru/sd-webui-additional-networks /content/stable-diffusion-webui/extensions/sd-webui-additional-networks\n",
        "#安装controlnet扩展（）\n",
        "!git clone https://github.com/Mikubill/sd-webui-controlnet /content/stable-diffusion-webui/extensions/sd-webui-controlnet\n",
        "\n",
        "%cd /content/stable-diffusion-webui\n",
        "\n",
        "!aria2c --console-log-level=error -c -x 16 -s 16 -k 1M https://huggingface.co/ckpt/sd15/resolve/main/v1-5-pruned-emaonly.ckpt -d /content/stable-diffusion-webui/models/Stable-diffusion -o v1-5-pruned-emaonly.ckpt\n",
        "\n",
        "!sed -i -e '''/prepare_environment()/a\\    os.system\\(f\\\"\"\"sed -i -e ''\\\"s/self.logvar\\\\[t\\\\]/self.logvar\\\\[t.item()\\\\]/g\\\"'' /content/stable-diffusion-webui/repositories/stable-diffusion-stability-ai/ldm/models/diffusion/ddpm.py\"\"\")''' /content/stable-diffusion-webui/launch.py\n",
        "!sed -i -e '''/prepare_environment()/a\\    os.system\\(f\\\"\"\"sed -i -e ''\\\"s/dict()))/dict())).cuda()/g\\\"'' /content/stable-diffusion-webui/repositories/stable-diffusion-stability-ai/ldm/util.py\"\"\")''' /content/stable-diffusion-webui/launch.py\n",
        "!sed -i '$a fastapi==0.90.0' requirements_versions.txt\n",
        "!python launch.py --share --xformers --enable-insecure-extension-access"
      ]
    },
    {
      "cell_type": "markdown",
      "source": [
        "**下载模型资源**"
      ],
      "metadata": {
        "id": "hbQYp64hc9AD"
      }
    },
    {
      "cell_type": "code",
      "source": [
        "#安装下载工具aria2\n",
        "#!apt-get update\n",
        "#!apt-get install aria2\n",
        "\n",
        "#安装ControlNet插件。运行SD后在SDwebui界面用url安装https://github.com/Mikubill/sd-webui-controlnet\n",
        "#下载ControlNet所需模型资源，注释掉的表示已经下载过了\n",
        "#下载地址https://huggingface.co/ckpt/ControlNet/tree/main\n",
        "#或者https://huggingface.co/kohya-ss/ControlNet-diff-modules/tree/main\n",
        "#1.control_normal.safetensors\n",
        "#!aria2c --console-log-level=error -c -x 16 -s 16 -k 1M https://huggingface.co/ckpt/ControlNet/resolve/main/control_normal.safetensors -d /content/drive/MyDrive/SD_Models -o control_normal.safetensors\n",
        "\n",
        "#2.control_canny.safetensors\n",
        "#!aria2c --console-log-level=error -c -x 16 -s 16 -k 1M https://huggingface.co/ckpt/ControlNet/resolve/main/control_canny.safetensors -d /content/drive/MyDrive/SD_Models -o control_canny.safetensors\n",
        "\n",
        "#3.control_depth.safetensors\n",
        "#!aria2c --console-log-level=error -c -x 16 -s 16 -k 1M https://huggingface.co/ckpt/ControlNet/resolve/main/control_depth.safetensors -d /content/drive/MyDrive/SD_Models -o control_depth.safetensors\n",
        "\n",
        "#4.control_hed.safetensors\n",
        "#!aria2c --console-log-level=error -c -x 16 -s 16 -k 1M https://huggingface.co/ckpt/ControlNet/resolve/main/control_hed.safetensors -d /content/drive/MyDrive/SD_Models -o control_hed.safetensors\n",
        "\n",
        "#5.control_mlsd.safetensors\n",
        "#!aria2c --console-log-level=error -c -x 16 -s 16 -k 1M https://huggingface.co/ckpt/ControlNet/resolve/main/control_mlsd.safetensors -d /content/drive/MyDrive/SD_Models -o control_mlsd.safetensors\n",
        "\n",
        "#6.control_openpose.safetensors\n",
        "#!aria2c --console-log-level=error -c -x 16 -s 16 -k 1M https://huggingface.co/ckpt/ControlNet/resolve/main/control_openpose.safetensors -d /content/drive/MyDrive/SD_Models -o control_openpose.safetensors\n",
        "\n",
        "#7.control_scribble.safetensors\n",
        "#!aria2c --console-log-level=error -c -x 16 -s 16 -k 1M https://huggingface.co/ckpt/ControlNet/resolve/main/control_scribble.safetensors -d /content/drive/MyDrive/SD_Models -o control_scribble.safetensors\n",
        "\n",
        "#8.control_seg.safetensors\n",
        "#!aria2c --console-log-level=error -c -x 16 -s 16 -k 1M https://huggingface.co/ckpt/ControlNet/resolve/main/control_seg.safetensors -d /content/drive/MyDrive/SD_Models -o control_seg.safetensors\n",
        "\n",
        "#常见知名模型下载https://huggingface.co/ckpt主页里找\n",
        "#下载地址https://huggingface.co/ckpt/ControlNet/tree/main\n",
        "#mdjrny-v4.ckpt\n",
        "#!aria2c --console-log-level=error -c -x 16 -s 16 -k 1M https://huggingface.co/ckpt/midjourney-v4-diffusion/resolve/main/mdjrny-v4.ckpt -d /content/drive/MyDrive/SD_Models2 -o mdjrny-v4.ckpt\n",
        "#Protogen_V2.2.ckpt\n",
        "#!aria2c --console-log-level=error -c -x 16 -s 16 -k 1M https://huggingface.co/ckpt/Protogen_V2.2/resolve/main/Protogen_V2.2.ckpt -d /content/drive/MyDrive/SD_Models2 -o Protogen_V2.2.ckpt\n",
        "#dreamlike-photoreal-2.0\n",
        "#!aria2c --console-log-level=error -c -x 16 -s 16 -k 1M https://huggingface.co/ckpt/dreamlike-photoreal-2.0/resolve/main/dreamlike-photoreal-2.0.safetensors -d /content/drive/MyDrive/SD_Models2 -o dreamlike-photoreal-2.0.safetensors\n",
        "\n",
        "\n",
        "\n",
        "\n"
      ],
      "metadata": {
        "id": "iSzINQYXdGwQ"
      },
      "execution_count": null,
      "outputs": []
    },
    {
      "cell_type": "markdown",
      "source": [
        "**先到SD-webui界面安装完controlnet插件再执行这一步。将云盘资源复制到指定文件夹,执行之前先暂停启动SD**"
      ],
      "metadata": {
        "id": "VLdOqHhRXeVS"
      }
    },
    {
      "cell_type": "code",
      "source": [
        "#运行启动SD后先暂停，才能运行复制cell\n",
        "#复制文件夹下多个文件。将云盘Controlnet所需模型复制到SD指定目录\n",
        "import glob\n",
        "import shutil\n",
        "\n",
        "# 定义源目录和目标路径\n",
        "src_dir = \"/content/drive/MyDrive/SD_Models\"\n",
        "dst_path = \"/content/stable-diffusion-webui/extensions/sd-webui-controlnet/models\"\n",
        "\n",
        "# 获取匹配的文件列表\n",
        "file_list = glob.glob(src_dir + \"/control_*.safetensors\")\n",
        "\n",
        "# 遍历文件列表并复制到目标路径\n",
        "for src_file in file_list:\n",
        "   shutil.copy(src_file, dst_path)\n",
        "\n",
        "####################    \n",
        "#将云盘其它模型复制到SD指定目录\n",
        "#import glob\n",
        "#import shutil\n",
        "# 定义源目录和目标路径\n",
        "src_dir2 = \"/content/drive/MyDrive/SD_Models2\"\n",
        "dst_path2 = \"/content/stable-diffusion-webui/models/Stable-diffusion\"\n",
        "\n",
        "# 获取匹配的文件列表\n",
        "file_list2 = glob.glob(src_dir2 + \"/*\")\n",
        "\n",
        "# 遍历文件列表并复制到目标路径\n",
        "for src_file2 in file_list2:\n",
        "    shutil.copy(src_file2, dst_path2)\n",
        "\n",
        "#复制单个文件\n",
        "#src_file = \"/content/drive/MyDrive/SD_Models2\"\n",
        "#dst_path = \"/content/stable-diffusion-webui/models/Stable-diffusion\"\n",
        "#shutil.copy(src_file, dst_path)\n",
        "\n",
        "\n"
      ],
      "metadata": {
        "id": "zVvNOsfP2Xb5"
      },
      "execution_count": null,
      "outputs": []
    }
  ],
  "metadata": {
    "colab": {
      "private_outputs": true,
      "provenance": [],
      "include_colab_link": true
    },
    "gpuClass": "standard",
    "kernelspec": {
      "display_name": "Python 3",
      "name": "python3"
    },
    "language_info": {
      "name": "python"
    },
    "accelerator": "GPU"
  },
  "nbformat": 4,
  "nbformat_minor": 0
}