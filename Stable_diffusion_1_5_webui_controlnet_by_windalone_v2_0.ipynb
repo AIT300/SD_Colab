{
  "cells": [
    {
      "cell_type": "markdown",
      "metadata": {
        "id": "view-in-github",
        "colab_type": "text"
      },
      "source": [
        "<a href=\"https://colab.research.google.com/github/AIT300/SD_Colab/blob/master/Stable_diffusion_1_5_webui_controlnet_by_windalone_v2_0.ipynb\" target=\"_parent\"><img src=\"https://colab.research.google.com/assets/colab-badge.svg\" alt=\"Open In Colab\"/></a>"
      ]
    },
    {
      "cell_type": "code",
      "execution_count": null,
      "metadata": {
        "cellView": "form",
        "collapsed": true,
        "id": "23TOba33L4qf"
      },
      "outputs": [],
      "source": [
        "#@title 查看分配到的GPU\n",
        "gpu_info = !nvidia-smi\n",
        "gpu_info = '\\n'.join(gpu_info)\n",
        "if gpu_info.find('failed') >= 0:\n",
        "  print('Not connected to a GPU')\n",
        "else:\n",
        "  print(gpu_info)"
      ]
    },
    {
      "cell_type": "code",
      "execution_count": null,
      "metadata": {
        "cellView": "form",
        "colab": {
          "base_uri": "https://localhost:8080/"
        },
        "id": "bak3dDaFqQLu",
        "outputId": "2a6c34f6-a22b-4f9b-e577-f6e495fda3d5"
      },
      "outputs": [
        {
          "name": "stdout",
          "output_type": "stream",
          "text": [
            "Mounted at /content/drive\n"
          ]
        }
      ],
      "source": [
        "#@title 挂载谷歌云盘\n",
        "#点击左上角三角形图标挂载云盘，或者运行以下代码\n",
        "from google.colab import drive\n",
        "drive.mount('/content/drive')"
      ]
    },
    {
      "cell_type": "code",
      "execution_count": null,
      "metadata": {
        "collapsed": true,
        "id": "SaAJk33ppFw1",
        "cellView": "form"
      },
      "outputs": [],
      "source": [
        "#@title 启动stable_diffusion_1_5_webui\n",
        "!apt-get -y install -qq aria2\n",
        "!pip install -q https://github.com/camenduru/stable-diffusion-webui-colab/releases/download/0.0.16/xformers-0.0.16+814314d.d20230118-cp38-cp38-linux_x86_64.whl\n",
        "!pip install -q --pre triton\n",
        "#安装最新版Pytorch,如有必要\n",
        "#!pip install torch -U\n",
        "\n",
        "!git clone -b v1.6 https://github.com/camenduru/stable-diffusion-webui\n",
        "!wget https://raw.githubusercontent.com/camenduru/stable-diffusion-webui-scripts/main/run_n_times.py -O /content/stable-diffusion-webui/scripts/run_n_times.py\n",
        "!git clone -b v1.6 https://github.com/camenduru/deforum-for-automatic1111-webui /content/stable-diffusion-webui/extensions/deforum-for-automatic1111-webui\n",
        "!git clone -b v1.6 https://github.com/camenduru/stable-diffusion-webui-images-browser /content/stable-diffusion-webui/extensions/stable-diffusion-webui-images-browser\n",
        "!git clone -b v1.6 https://github.com/camenduru/stable-diffusion-webui-huggingface /content/stable-diffusion-webui/extensions/stable-diffusion-webui-huggingface\n",
        "!git clone -b v1.6 https://github.com/camenduru/sd-civitai-browser /content/stable-diffusion-webui/extensions/sd-civitai-browser\n",
        "!git clone -b v1.6 https://github.com/camenduru/sd-webui-additional-networks /content/stable-diffusion-webui/extensions/sd-webui-additional-networks\n",
        "#安装controlnet扩展（）\n",
        "!git clone https://github.com/Mikubill/sd-webui-controlnet /content/stable-diffusion-webui/extensions/sd-webui-controlnet\n",
        "\n",
        "%cd /content/stable-diffusion-webui\n",
        "\n",
        "!aria2c --console-log-level=error -c -x 16 -s 16 -k 1M https://huggingface.co/ckpt/sd15/resolve/main/v1-5-pruned-emaonly.ckpt -d /content/stable-diffusion-webui/models/Stable-diffusion -o v1-5-pruned-emaonly.ckpt\n",
        "\n",
        "!sed -i -e '''/prepare_environment()/a\\    os.system\\(f\\\"\"\"sed -i -e ''\\\"s/self.logvar\\\\[t\\\\]/self.logvar\\\\[t.item()\\\\]/g\\\"'' /content/stable-diffusion-webui/repositories/stable-diffusion-stability-ai/ldm/models/diffusion/ddpm.py\"\"\")''' /content/stable-diffusion-webui/launch.py\n",
        "!sed -i -e '''/prepare_environment()/a\\    os.system\\(f\\\"\"\"sed -i -e ''\\\"s/dict()))/dict())).cuda()/g\\\"'' /content/stable-diffusion-webui/repositories/stable-diffusion-stability-ai/ldm/util.py\"\"\")''' /content/stable-diffusion-webui/launch.py\n",
        "!sed -i '$a fastapi==0.90.0' requirements_versions.txt\n",
        "!python launch.py --share --xformers --enable-insecure-extension-access"
      ]
    },
    {
      "cell_type": "code",
      "execution_count": null,
      "metadata": {
        "id": "nsVAyLI2sP4B",
        "cellView": "form"
      },
      "outputs": [],
      "source": [
        "#@title 检查PyTorch版本\n",
        "#import torch\n",
        "#print(torch.__version__)\n",
        "\n",
        "!python -c \"import torch; print(torch.__version__)\""
      ]
    },
    {
      "cell_type": "code",
      "execution_count": null,
      "metadata": {
        "cellView": "form",
        "id": "iSzINQYXdGwQ"
      },
      "outputs": [],
      "source": [
        "#@title 下载模型资源\n",
        "#安装下载工具aria2\n",
        "!apt-get update\n",
        "!apt-get install aria2\n",
        "\n",
        "#安装ControlNet插件。运行SD后在SDwebui界面用url安装https://github.com/Mikubill/sd-webui-controlnet\n",
        "#下载ControlNet所需模型资源，注释掉的表示已经下载过了\n",
        "#下载地址https://huggingface.co/ckpt/ControlNet/tree/main\n",
        "#或者https://huggingface.co/kohya-ss/ControlNet-diff-modules/tree/main\n",
        "#1.control_normal.safetensors\n",
        "#!aria2c --console-log-level=error -c -x 16 -s 16 -k 1M https://huggingface.co/ckpt/ControlNet/resolve/main/control_normal.safetensors -d /content/drive/MyDrive/SD_Models -o control_normal.safetensors\n",
        "\n",
        "#2.control_canny.safetensors\n",
        "#!aria2c --console-log-level=error -c -x 16 -s 16 -k 1M https://huggingface.co/ckpt/ControlNet/resolve/main/control_canny.safetensors -d /content/drive/MyDrive/SD_Models -o control_canny.safetensors\n",
        "\n",
        "#3.control_depth.safetensors\n",
        "#!aria2c --console-log-level=error -c -x 16 -s 16 -k 1M https://huggingface.co/ckpt/ControlNet/resolve/main/control_depth.safetensors -d /content/drive/MyDrive/SD_Models -o control_depth.safetensors\n",
        "\n",
        "#4.control_hed.safetensors\n",
        "#!aria2c --console-log-level=error -c -x 16 -s 16 -k 1M https://huggingface.co/ckpt/ControlNet/resolve/main/control_hed.safetensors -d /content/drive/MyDrive/SD_Models -o control_hed.safetensors\n",
        "\n",
        "#5.control_mlsd.safetensors\n",
        "#!aria2c --console-log-level=error -c -x 16 -s 16 -k 1M https://huggingface.co/ckpt/ControlNet/resolve/main/control_mlsd.safetensors -d /content/drive/MyDrive/SD_Models -o control_mlsd.safetensors\n",
        "\n",
        "#6.control_openpose.safetensors\n",
        "#!aria2c --console-log-level=error -c -x 16 -s 16 -k 1M https://huggingface.co/ckpt/ControlNet/resolve/main/control_openpose.safetensors -d /content/drive/MyDrive/SD_Models -o control_openpose.safetensors\n",
        "\n",
        "#7.control_scribble.safetensors\n",
        "#!aria2c --console-log-level=error -c -x 16 -s 16 -k 1M https://huggingface.co/ckpt/ControlNet/resolve/main/control_scribble.safetensors -d /content/drive/MyDrive/SD_Models -o control_scribble.safetensors\n",
        "\n",
        "#8.control_seg.safetensors\n",
        "#!aria2c --console-log-level=error -c -x 16 -s 16 -k 1M https://huggingface.co/ckpt/ControlNet/resolve/main/control_seg.safetensors -d /content/drive/MyDrive/SD_Models -o control_seg.safetensors\n",
        "\n",
        "#常见知名模型下载https://huggingface.co/ckpt主页里找\n",
        "#模型库https://civitai.com/\n",
        "#下载地址https://huggingface.co/ckpt/ControlNet/tree/main\n",
        "#mdjrny-v4.ckpt\n",
        "#!aria2c --console-log-level=error -c -x 16 -s 16 -k 1M https://huggingface.co/ckpt/midjourney-v4-diffusion/resolve/main/mdjrny-v4.ckpt -d /content/drive/MyDrive/SD_Models2 -o mdjrny-v4.ckpt\n",
        "#Protogen_V2.2.ckpt\n",
        "#!aria2c --console-log-level=error -c -x 16 -s 16 -k 1M https://huggingface.co/ckpt/Protogen_V2.2/resolve/main/Protogen_V2.2.ckpt -d /content/drive/MyDrive/SD_Models2 -o Protogen_V2.2.ckpt\n",
        "#dreamlike-photoreal-2.0\n",
        "#!aria2c --console-log-level=error -c -x 16 -s 16 -k 1M https://huggingface.co/ckpt/dreamlike-photoreal-2.0/resolve/main/dreamlike-photoreal-2.0.safetensors -d /content/drive/MyDrive/SD_Models2 -o dreamlike-photoreal-2.0.safetensors\n",
        "#ArcaneStyle-LoRA\n",
        "#!aria2c --console-log-level=error -c -x 16 -s 16 -k 1M https://civitai.com/api/download/models/8339 -d /content/drive/MyDrive/SD_Models2 -o ArcaneStyle-LoRA.safetensors\n",
        "#SamDoesArtsSamYangStyleLoRA\n",
        "#!aria2c --console-log-level=error -c -x 16 -s 16 -k 1M https://civitai.com/api/download/models/7804 -d /content/drive/MyDrive/SD_Models2 -o SamDoesArtsSamYangStyleLoRA.safetensors\n",
        "#DreamShaper-v7\n",
        "#!aria2c --console-log-level=error -c -x 16 -s 16 -k 1M https://civitai.com/api/download/models/5636 -d /content/drive/MyDrive/SD_Models2 -o DreamShaper-v7.safetensors\n",
        "#dalcefo_painting-v2.0\n",
        "#!aria2c --console-log-level=error -c -x 16 -s 16 -k 1M https://civitai.com/api/download/models/14675 -d /content/drive/MyDrive/SD_Models2 -o dalcefo_painting-v2.0.safetensors\n",
        "#dalcefoPainting_LoRA300-v1.0\n",
        "#!aria2c --console-log-level=error -c -x 16 -s 16 -k 1M https://civitai.com/api/download/models/8444 -d /content/drive/MyDrive/SD_Models2 -o dalcefoPainting_LoRA300-v1.0.safetensors\n",
        "#StudioGhibliStyleLoRA-v2.0\n",
        "#!aria2c --console-log-level=error -c -x 16 -s 16 -k 1M https://civitai.com/api/download/models/7657 -d /content/drive/MyDrive/SD_Models2 -o StudioGhibliStyleLoRA-v2.0.safetensors\n",
        "#PerfectWorld-v2.0\n",
        "#!aria2c --console-log-level=error -c -x 16 -s 16 -k 1M https://civitai.com/api/download/models/11182 -d /content/drive/MyDrive/SD_Models2 -o PerfectWorld-v2.0.safetensors\n",
        "#PFG-v2.0\n",
        "#!aria2c --console-log-level=error -c -x 16 -s 16 -k 1M https://civitai.com/api/download/models/1316 -d /content/drive/MyDrive/SD_Models2 -o PFG-v2.0.safetensors\n",
        "#Hipoly3DModelLoRA-v1.0\n",
        "#!aria2c --console-log-level=error -c -x 16 -s 16 -k 1M https://civitai.com/api/download/models/10301 -d /content/drive/MyDrive/SD_Models2 -o Hipoly3DModelLoRA-v1.0.safetensors\n",
        "#9.SketchStyleforimg2img\n",
        "#!aria2c --console-log-level=error -c -x 16 -s 16 -k 1M https://civitai.com/api/download/models/16156 -d /content/drive/MyDrive/SD_Models2 -o SketchStyleforimg2img-v3.0.safetensors\n",
        "\n",
        "\n"
      ]
    },
    {
      "cell_type": "markdown",
      "metadata": {
        "id": "oYvrAxdu19qs"
      },
      "source": [
        "#从MyDrive复制模型等资源到colab"
      ]
    },
    {
      "cell_type": "code",
      "execution_count": null,
      "metadata": {
        "cellView": "form",
        "id": "zVvNOsfP2Xb5"
      },
      "outputs": [],
      "source": [
        "#@title 将云盘资源复制到指定文件夹，执行之前先暂停SD，等复制完再次启动SD\n",
        "#先启动SD，等SD创建完目录后，暂停SD，然后执行复制到相应路劲，复制完成后再次启动SD\n",
        "#不先启动SD则要存放模型的相应目录不存在，启动后不暂停SD则复制操作无法运行，会一直处于等待状态\n",
        "#目前全部复制完成需要10分钟左右\n",
        "#复制文件夹下多个文件。将云盘Controlnet所需模型复制到SD指定目录\n",
        "import glob\n",
        "import shutil\n",
        "\n",
        "# 定义源目录和目标路径\n",
        "src_dir = \"/content/drive/MyDrive/SD_Models\"\n",
        "dst_path = \"/content/stable-diffusion-webui/extensions/sd-webui-controlnet/models\"\n",
        "\n",
        "# 获取匹配的文件列表\n",
        "file_list = glob.glob(src_dir + \"/control_*.safetensors\")\n",
        "\n",
        "# 遍历文件列表并复制到目标路径\n",
        "for src_file in file_list:\n",
        "   shutil.copy(src_file, dst_path)\n",
        "\n",
        "####################    \n",
        "#将云盘其它模型复制到SD指定目录\n",
        "#import glob\n",
        "#import shutil\n",
        "# 定义源目录和目标路径\n",
        "src_dir2 = \"/content/drive/MyDrive/SD_Models2\"\n",
        "dst_path2 = \"/content/stable-diffusion-webui/models/Stable-diffusion\"\n",
        "\n",
        "# 获取匹配的文件列表\n",
        "file_list2 = glob.glob(src_dir2 + \"/*\")\n",
        "\n",
        "# 遍历文件列表并复制到目标路径\n",
        "for src_file2 in file_list2:\n",
        "    shutil.copy(src_file2, dst_path2)\n",
        "\n",
        "#复制单个文件\n",
        "#src_file = \"/content/drive/MyDrive/SD_Models2\"\n",
        "#dst_path = \"/content/stable-diffusion-webui/models/Stable-diffusion\"\n",
        "#shutil.copy(src_file, dst_path)\n",
        "\n",
        "\n"
      ]
    },
    {
      "cell_type": "code",
      "execution_count": null,
      "metadata": {
        "cellView": "form",
        "id": "rVQeb_a3egWh"
      },
      "outputs": [],
      "source": [
        "#@title 复制单个或多个文件到指定目录\n",
        "import os\n",
        "import shutil\n",
        "\n",
        "src_folder = '/content/drive/MyDrive/SD_Models2'\n",
        "dst_folder = '/content/stable-diffusion-webui/models/Stable-diffusion'\n",
        "files_to_copy = ['Hipoly3DModelLoRA-v1.0.safetensors', 'PFG-v2.0.safetensors', 'PerfectWorld-v2.0.safetensors','dalcefoPainting_LoRA300-v1.0.safetensors','dalcefo_painting-v2.0.safetensors']\n",
        "\n",
        "for file_name in files_to_copy:\n",
        "    src_file = os.path.join(src_folder, file_name)\n",
        "    dst_file = os.path.join(dst_folder, file_name)\n",
        "    shutil.copy(src_file, dst_file)\n"
      ]
    },
    {
      "cell_type": "code",
      "execution_count": null,
      "metadata": {
        "cellView": "form",
        "id": "0kxo97YslM_s"
      },
      "outputs": [],
      "source": [
        "#@title 复制单个文件到指定目录\n",
        "import os\n",
        "import shutil\n",
        "\n",
        "src_path = '/content/drive/MyDrive/SD_Models2/SketchStyleforimg2img-v3.0.safetensors'\n",
        "dst_path = '/content/drive/MyDrive/SD/sketch_style_for_img2img'\n",
        "shutil.copy(src_path,dst_path)"
      ]
    },
    {
      "cell_type": "code",
      "execution_count": null,
      "metadata": {
        "cellView": "form",
        "id": "KCeRCcfDX_E5"
      },
      "outputs": [],
      "source": [
        "#@title 复制下载的内容到MyDrive\n",
        "#从文件夹到文件夹。使用以下代码时，先在目标文件夹里创建一个和源文件夹同名的文件夹\n",
        "import os\n",
        "import shutil\n",
        "src_folder = '/content/drive/MyDrive/SD_Models2/SketchStyleforimg2imgv3'\n",
        "dst_folder = '/content/drive/MyDrive/SD/SketchStyleforimg2imgv3'\n",
        "\n",
        "# 复制文件夹\n",
        "shutil.copytree(src_folder,dst_folder,dirs_exist_ok=True)"
      ]
    },
    {
      "cell_type": "code",
      "execution_count": null,
      "metadata": {
        "cellView": "form",
        "id": "1bOOUVGLVpQD"
      },
      "outputs": [],
      "source": [
        "#@title 读取安装目录下某些文件的内容\n",
        "import csv\n",
        "\n",
        "with open('/content/stable-diffusion-webui/artists.csv', newline='') as csvfile:\n",
        "    reader = csv.reader(csvfile, delimiter=',', quotechar='\"')\n",
        "    for row in reader:\n",
        "        # row为每一行的数据，可以根据需要进行处理\n",
        "        print(row)\n"
      ]
    },
    {
      "cell_type": "code",
      "source": [
        "#@title 复制outputs到MyDrive\n",
        "#从文件夹到文件夹。使用以下代码时，先在目标文件夹里创建一个和源文件夹同名的文件夹\n",
        "import os\n",
        "import shutil\n",
        "src_folder = '/content/stable-diffusion-webui/outputs'\n",
        "dst_folder = '/content/drive/MyDrive/Outputs_images/outputs'\n",
        "\n",
        "# 复制文件夹\n",
        "shutil.copytree(src_folder,dst_folder,dirs_exist_ok=True)\n"
      ],
      "metadata": {
        "colab": {
          "base_uri": "https://localhost:8080/",
          "height": 35
        },
        "cellView": "form",
        "id": "hinQHF2vAqfB",
        "outputId": "bcfc902c-8035-4480-e609-1112da6492e0"
      },
      "execution_count": 7,
      "outputs": [
        {
          "output_type": "execute_result",
          "data": {
            "text/plain": [
              "'/content/drive/MyDrive/Outputs_images/outputs'"
            ],
            "application/vnd.google.colaboratory.intrinsic+json": {
              "type": "string"
            }
          },
          "metadata": {},
          "execution_count": 7
        }
      ]
    },
    {
      "cell_type": "code",
      "source": [
        "#@title 如果设置有改动需把配置文件保存到到MyDrive\n",
        "#从文件夹到文件夹。使用以下代码时，先在目标文件夹里创建一个和源文件夹同名的文件夹\n",
        "import os\n",
        "import shutil\n",
        "src_path = '/content/stable-diffusion-webui/config.json'\n",
        "dst_path = '/content/drive/MyDrive/Settings'\n",
        "\n",
        "# 复制文件夹\n",
        "shutil.copy(src_path,dst_path)"
      ],
      "metadata": {
        "colab": {
          "base_uri": "https://localhost:8080/",
          "height": 35
        },
        "cellView": "form",
        "id": "XX_2w7vqBRpT",
        "outputId": "b312ea32-4a48-48e7-8ee1-5238dbe8380f"
      },
      "execution_count": 9,
      "outputs": [
        {
          "output_type": "execute_result",
          "data": {
            "text/plain": [
              "'/content/drive/MyDrive/Settings/config.json'"
            ],
            "application/vnd.google.colaboratory.intrinsic+json": {
              "type": "string"
            }
          },
          "metadata": {},
          "execution_count": 9
        }
      ]
    }
  ],
  "metadata": {
    "accelerator": "GPU",
    "colab": {
      "provenance": [],
      "include_colab_link": true
    },
    "gpuClass": "standard",
    "kernelspec": {
      "display_name": "Python 3",
      "name": "python3"
    },
    "language_info": {
      "name": "python"
    }
  },
  "nbformat": 4,
  "nbformat_minor": 0
}